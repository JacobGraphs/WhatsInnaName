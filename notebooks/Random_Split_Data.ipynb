{
 "cells": [
  {
   "cell_type": "code",
   "execution_count": null,
   "metadata": {},
   "outputs": [],
   "source": []
  },
  {
   "cell_type": "code",
   "execution_count": 708,
   "metadata": {},
   "outputs": [],
   "source": [
    "import pandas as pd\n",
    "import numpy as np\n",
    "import matplotlib.pyplot as plt\n",
    "import string\n",
    "from nltk.corpus import stopwords\n",
    "from collections import Counter\n",
    "pd.options.display.max_rows = 4000\n",
    "from sklearn.model_selection import train_test_split\n",
    "import os\n",
    "import io\n",
    "import numpy\n",
    "from pandas import DataFrame\n",
    "from sklearn.feature_extraction.text import CountVectorizer\n",
    "from sklearn.naive_bayes import MultinomialNB"
   ]
  },
  {
   "cell_type": "code",
   "execution_count": 695,
   "metadata": {},
   "outputs": [],
   "source": [
    "movies = pd.read_csv('/Users/jacobtryba/DSI/assignments/capstone2/data/imdb-extensive-dataset/IMDb movies.csv')\n",
    "movies_subset = ['reviews_from_critics','genre','description', 'metascore','director','imdb_title_id', 'title', 'year','duration', 'country','budget', 'usa_gross_income', 'worlwide_gross_income']\n",
    "movies_subbed = movies[movies_subset]\n",
    "movies_current_usa = movies_subbed.query('country == \"USA\"')\n",
    "movies_current_usa_nonnull_ugi = movies_current_usa[(movies_current_usa.usa_gross_income.notnull())]\n",
    "movies_current_usa_nonnull_ugi_budget = movies_current_usa_nonnull_ugi[(movies_current_usa_nonnull_ugi.budget.notnull())]\n",
    "final_set = movies_current_usa_nonnull_ugi_budget.sort_values('year', ascending = True)\n",
    "final_set['budget'] = final_set['budget'].str.replace('$', '')\n",
    "final_set['budget'] = final_set['budget'].str.replace('$ ', '')\n",
    "final_set['budget'] = final_set['budget'].str.replace('GBP ', '')\n",
    "final_set['budget'] = final_set['budget'].str.replace('AUD ', '')\n",
    "final_set['budget'] = final_set['budget'].str.replace('EUR ', '')\n",
    "final_set['budget'] = final_set['budget'].str.replace('ESP ', '')\n",
    "final_set['budget'] = final_set['budget'].str.replace('CAD ', '')\n",
    "final_set['usa_gross_income'] = final_set['usa_gross_income'].str.replace('$ ', '')\n",
    "final_set['usa_gross_income'] = final_set['usa_gross_income'].str.replace('$', '').astype('int')\n",
    "final_set['worlwide_gross_income_gross_income'] = final_set['worlwide_gross_income'].str.replace('$ ', '')\n",
    "final_set['worlwide_gross_income'] = final_set['worlwide_gross_income'].str.replace('$', '').astype('int')\n",
    "final_set['international_gross_income'] = (final_set['worlwide_gross_income'] - final_set['usa_gross_income'])\n",
    "final_set['returns'] = (final_set['worlwide_gross_income'] - final_set['budget'].astype('int'))\n",
    "final_set['profitable'] = [1 if x > 0 else 0 for x in final_set['returns']]\n",
    "# final_set = final_set[(final_set.metascore.notnull())]"
   ]
  },
  {
   "cell_type": "code",
   "execution_count": 696,
   "metadata": {},
   "outputs": [],
   "source": [
    "# Title\n",
    "final_set['title'] = final_set['title'].astype(str)\n",
    "final_set['title'] = final_set['title'].str.lower()\n",
    "\n",
    "\n",
    "# Description\n",
    "final_set['description'] = final_set['description'].astype(str)\n",
    "final_set['description'] = final_set['description'].str.lower()\n",
    "\n",
    "# Director\n",
    "final_set['director'] = final_set['director'].astype(str)\n",
    "final_set['director'] = final_set['director'].str.lower()\n",
    "\n",
    "#Genre\n",
    "final_set['genre'] = final_set['genre'].astype(str)\n",
    "final_set['genre'] = final_set['genre'].str.lower()"
   ]
  },
  {
   "cell_type": "code",
   "execution_count": 697,
   "metadata": {},
   "outputs": [],
   "source": [
    "punct_to_remove = string.punctuation"
   ]
  },
  {
   "cell_type": "code",
   "execution_count": 698,
   "metadata": {},
   "outputs": [],
   "source": [
    "def remove_punctuation(text):\n",
    "    return text.translate(str.maketrans('','', punct_to_remove))"
   ]
  },
  {
   "cell_type": "code",
   "execution_count": 699,
   "metadata": {},
   "outputs": [],
   "source": [
    "final_set['description'] = final_set['description'].apply(lambda text: remove_punctuation(text))\n",
    "final_set['title'] = final_set['title'].apply(lambda text: remove_punctuation(text))\n",
    "final_set['genre'] = final_set['genre'].apply(lambda text: remove_punctuation(text))"
   ]
  },
  {
   "cell_type": "code",
   "execution_count": 700,
   "metadata": {},
   "outputs": [],
   "source": [
    "stop_words = set(stopwords.words('english'))"
   ]
  },
  {
   "cell_type": "code",
   "execution_count": 701,
   "metadata": {},
   "outputs": [],
   "source": [
    "def remove_stopwords(text):\n",
    "    return ' '.join([word for word in str(text).split() if word not in stop_words])"
   ]
  },
  {
   "cell_type": "code",
   "execution_count": 702,
   "metadata": {},
   "outputs": [],
   "source": [
    "# Remove Stop Words From Description of Movie + genre\n",
    "\n",
    "final_set['description'] = final_set['description'].apply(lambda text: remove_stopwords(text))\n",
    "final_set['genre'] = final_set['genre'].apply(lambda text: remove_stopwords(text))"
   ]
  },
  {
   "cell_type": "code",
   "execution_count": null,
   "metadata": {},
   "outputs": [],
   "source": []
  },
  {
   "cell_type": "code",
   "execution_count": null,
   "metadata": {},
   "outputs": [],
   "source": [
    "# Split My Data\n",
    "\n",
    "# X_train, X_test, y_train, y_test = \n",
    "# train_test_split(X, y, test_size=0.33, random_state=42)\n",
    "\n",
    "msk = np.random.rand(len(final_set)) < .8"
   ]
  },
  {
   "cell_type": "code",
   "execution_count": null,
   "metadata": {},
   "outputs": [],
   "source": [
    "train = final_set[msk]\n",
    "test = final_set[~msk]"
   ]
  },
  {
   "cell_type": "code",
   "execution_count": null,
   "metadata": {},
   "outputs": [],
   "source": [
    "len(train)"
   ]
  },
  {
   "cell_type": "code",
   "execution_count": null,
   "metadata": {},
   "outputs": [],
   "source": [
    "len(test)"
   ]
  },
  {
   "cell_type": "code",
   "execution_count": null,
   "metadata": {},
   "outputs": [],
   "source": [
    "len(final_set)"
   ]
  },
  {
   "cell_type": "code",
   "execution_count": 660,
   "metadata": {},
   "outputs": [],
   "source": [
    "train, test = train_test_split(final_set, test_size =0.2, random_state=143278497)"
   ]
  },
  {
   "cell_type": "code",
   "execution_count": null,
   "metadata": {},
   "outputs": [],
   "source": []
  },
  {
   "cell_type": "code",
   "execution_count": 661,
   "metadata": {},
   "outputs": [],
   "source": [
    "train_copy = train.copy()"
   ]
  },
  {
   "cell_type": "code",
   "execution_count": 662,
   "metadata": {},
   "outputs": [],
   "source": [
    "test_copy = test.copy()"
   ]
  },
  {
   "cell_type": "code",
   "execution_count": 663,
   "metadata": {},
   "outputs": [],
   "source": [
    "train_copy['text'] = train_copy['title'] + ' ' + train_copy['director'] + ' ' + train_copy['genre']"
   ]
  },
  {
   "cell_type": "code",
   "execution_count": 664,
   "metadata": {},
   "outputs": [],
   "source": [
    "test_copy['text'] = test_copy['title']  + ' ' + test_copy['director'] + ' ' + test_copy['genre']"
   ]
  },
  {
   "cell_type": "code",
   "execution_count": 665,
   "metadata": {},
   "outputs": [],
   "source": [
    "two_col = ['title', 'director', 'text','profitable']"
   ]
  },
  {
   "cell_type": "code",
   "execution_count": 666,
   "metadata": {},
   "outputs": [],
   "source": [
    "all_train_two_col = train_copy[two_col]\n",
    "all_test_two_col = test_copy[two_col]"
   ]
  },
  {
   "cell_type": "code",
   "execution_count": 450,
   "metadata": {},
   "outputs": [
    {
     "data": {
      "text/plain": [
       "MultinomialNB(alpha=1.0, class_prior=None, fit_prior=True)"
      ]
     },
     "execution_count": 450,
     "metadata": {},
     "output_type": "execute_result"
    }
   ],
   "source": [
    "vectorizer = CountVectorizer(ngram_range=(1, 2))\n",
    "counts = vectorizer.fit_transform(all_train_two_col['text'].values)\n",
    "classifier = MultinomialNB()\n",
    "targets = all_train_two_col['profitable'].values\n",
    "classifier.fit(counts, targets)"
   ]
  },
  {
   "cell_type": "code",
   "execution_count": 303,
   "metadata": {},
   "outputs": [],
   "source": [
    "test = all_test_two_col['text']\n",
    "example_counts = vectorizer.transform(test)\n",
    "predictions = classifier.predict(example_counts)\n",
    "predictions_movies = pd.DataFrame((all_test_two_col),columns=['movies', 'profitable', 'predictions'] )"
   ]
  },
  {
   "cell_type": "code",
   "execution_count": 304,
   "metadata": {},
   "outputs": [],
   "source": [
    "tested_data = all_test_two_col.copy() "
   ]
  },
  {
   "cell_type": "code",
   "execution_count": 305,
   "metadata": {},
   "outputs": [],
   "source": [
    "tested_data['prediction'] = predictions"
   ]
  },
  {
   "cell_type": "code",
   "execution_count": 306,
   "metadata": {},
   "outputs": [],
   "source": [
    "tested_data['correct'] = np.where(tested_data['prediction'] == tested_data['profitable'], 1, 0)"
   ]
  },
  {
   "cell_type": "code",
   "execution_count": 307,
   "metadata": {},
   "outputs": [
    {
     "data": {
      "text/plain": [
       "890"
      ]
     },
     "execution_count": 307,
     "metadata": {},
     "output_type": "execute_result"
    }
   ],
   "source": [
    "len(tested_data)"
   ]
  },
  {
   "cell_type": "code",
   "execution_count": 308,
   "metadata": {},
   "outputs": [],
   "source": [
    "accuracy = tested_data.correct.sum() / tested_data.correct.count()"
   ]
  },
  {
   "cell_type": "code",
   "execution_count": 309,
   "metadata": {},
   "outputs": [
    {
     "name": "stdout",
     "output_type": "stream",
     "text": [
      "0.6067415730337079\n"
     ]
    }
   ],
   "source": [
    "print(accuracy)"
   ]
  },
  {
   "cell_type": "code",
   "execution_count": 310,
   "metadata": {},
   "outputs": [
    {
     "data": {
      "text/plain": [
       "533"
      ]
     },
     "execution_count": 310,
     "metadata": {},
     "output_type": "execute_result"
    }
   ],
   "source": [
    "tested_data['profitable'].sum()"
   ]
  },
  {
   "cell_type": "code",
   "execution_count": 311,
   "metadata": {},
   "outputs": [
    {
     "data": {
      "text/plain": [
       "890"
      ]
     },
     "execution_count": 311,
     "metadata": {},
     "output_type": "execute_result"
    }
   ],
   "source": [
    "tested_data['profitable'].count()"
   ]
  },
  {
   "cell_type": "code",
   "execution_count": 312,
   "metadata": {},
   "outputs": [
    {
     "data": {
      "text/plain": [
       "0.5898876404494382"
      ]
     },
     "execution_count": 312,
     "metadata": {},
     "output_type": "execute_result"
    }
   ],
   "source": [
    "525/(890)"
   ]
  },
  {
   "cell_type": "code",
   "execution_count": null,
   "metadata": {},
   "outputs": [],
   "source": []
  },
  {
   "cell_type": "code",
   "execution_count": null,
   "metadata": {},
   "outputs": [],
   "source": []
  },
  {
   "cell_type": "code",
   "execution_count": null,
   "metadata": {},
   "outputs": [],
   "source": []
  },
  {
   "cell_type": "code",
   "execution_count": null,
   "metadata": {
    "scrolled": true
   },
   "outputs": [],
   "source": []
  },
  {
   "cell_type": "code",
   "execution_count": null,
   "metadata": {},
   "outputs": [],
   "source": []
  },
  {
   "cell_type": "code",
   "execution_count": 531,
   "metadata": {},
   "outputs": [
    {
     "data": {
      "text/html": [
       "<div>\n",
       "<style scoped>\n",
       "    .dataframe tbody tr th:only-of-type {\n",
       "        vertical-align: middle;\n",
       "    }\n",
       "\n",
       "    .dataframe tbody tr th {\n",
       "        vertical-align: top;\n",
       "    }\n",
       "\n",
       "    .dataframe thead th {\n",
       "        text-align: right;\n",
       "    }\n",
       "</style>\n",
       "<table border=\"1\" class=\"dataframe\">\n",
       "  <thead>\n",
       "    <tr style=\"text-align: right;\">\n",
       "      <th></th>\n",
       "      <th>title</th>\n",
       "      <th>director</th>\n",
       "      <th>text</th>\n",
       "      <th>profitable</th>\n",
       "    </tr>\n",
       "  </thead>\n",
       "  <tbody>\n",
       "    <tr>\n",
       "      <td>25488</td>\n",
       "      <td>stone cold</td>\n",
       "      <td>craig r. baxley</td>\n",
       "      <td>stone cold craig r. baxley action crime drama</td>\n",
       "      <td>0</td>\n",
       "    </tr>\n",
       "  </tbody>\n",
       "</table>\n",
       "</div>"
      ],
      "text/plain": [
       "            title         director  \\\n",
       "25488  stone cold  craig r. baxley   \n",
       "\n",
       "                                                text  profitable  \n",
       "25488  stone cold craig r. baxley action crime drama           0  "
      ]
     },
     "execution_count": 531,
     "metadata": {},
     "output_type": "execute_result"
    }
   ],
   "source": [
    "all_train_two_col.head(1)"
   ]
  },
  {
   "cell_type": "code",
   "execution_count": 533,
   "metadata": {
    "scrolled": true
   },
   "outputs": [
    {
     "data": {
      "text/html": [
       "<div>\n",
       "<style scoped>\n",
       "    .dataframe tbody tr th:only-of-type {\n",
       "        vertical-align: middle;\n",
       "    }\n",
       "\n",
       "    .dataframe tbody tr th {\n",
       "        vertical-align: top;\n",
       "    }\n",
       "\n",
       "    .dataframe thead th {\n",
       "        text-align: right;\n",
       "    }\n",
       "</style>\n",
       "<table border=\"1\" class=\"dataframe\">\n",
       "  <thead>\n",
       "    <tr style=\"text-align: right;\">\n",
       "      <th></th>\n",
       "      <th>title</th>\n",
       "      <th>director</th>\n",
       "      <th>text</th>\n",
       "      <th>profitable</th>\n",
       "    </tr>\n",
       "  </thead>\n",
       "  <tbody>\n",
       "    <tr>\n",
       "      <td>9993</td>\n",
       "      <td>psycho</td>\n",
       "      <td>alfred hitchcock</td>\n",
       "      <td>psycho alfred hitchcock horror mystery thriller</td>\n",
       "      <td>1</td>\n",
       "    </tr>\n",
       "  </tbody>\n",
       "</table>\n",
       "</div>"
      ],
      "text/plain": [
       "       title          director  \\\n",
       "9993  psycho  alfred hitchcock   \n",
       "\n",
       "                                                 text  profitable  \n",
       "9993  psycho alfred hitchcock horror mystery thriller           1  "
      ]
     },
     "execution_count": 533,
     "metadata": {},
     "output_type": "execute_result"
    }
   ],
   "source": [
    "all_test_two_col.head(1)"
   ]
  },
  {
   "cell_type": "code",
   "execution_count": 458,
   "metadata": {
    "scrolled": true
   },
   "outputs": [],
   "source": [
    "########## SPLIT AND TRAIN AND TEST ON TITLE, DIRECTOR, GENRE"
   ]
  },
  {
   "cell_type": "code",
   "execution_count": 532,
   "metadata": {},
   "outputs": [
    {
     "data": {
      "text/plain": [
       "MultinomialNB(alpha=1.0, class_prior=None, fit_prior=True)"
      ]
     },
     "execution_count": 532,
     "metadata": {},
     "output_type": "execute_result"
    }
   ],
   "source": [
    "vectorizer = CountVectorizer(ngram_range=(1, 2))\n",
    "counts = vectorizer.fit_transform(all_train_two_col['text'].values)\n",
    "classifier = MultinomialNB()\n",
    "targets = all_train_two_col['profitable'].values\n",
    "classifier.fit(counts, targets)"
   ]
  },
  {
   "cell_type": "code",
   "execution_count": 534,
   "metadata": {},
   "outputs": [],
   "source": [
    "test = all_test_two_col['text']\n",
    "example_counts = vectorizer.transform(test)\n",
    "predictions = classifier.predict(example_counts)\n"
   ]
  },
  {
   "cell_type": "code",
   "execution_count": 535,
   "metadata": {},
   "outputs": [],
   "source": [
    "tested_data = all_test_two_col.copy() "
   ]
  },
  {
   "cell_type": "code",
   "execution_count": 536,
   "metadata": {},
   "outputs": [],
   "source": [
    "tested_data['prediction'] = predictions"
   ]
  },
  {
   "cell_type": "code",
   "execution_count": 537,
   "metadata": {},
   "outputs": [],
   "source": [
    "tested_data['correct'] = np.where(tested_data['prediction'] == tested_data['profitable'], 1, 0)"
   ]
  },
  {
   "cell_type": "code",
   "execution_count": 542,
   "metadata": {
    "scrolled": false
   },
   "outputs": [
    {
     "data": {
      "text/html": [
       "<div>\n",
       "<style scoped>\n",
       "    .dataframe tbody tr th:only-of-type {\n",
       "        vertical-align: middle;\n",
       "    }\n",
       "\n",
       "    .dataframe tbody tr th {\n",
       "        vertical-align: top;\n",
       "    }\n",
       "\n",
       "    .dataframe thead th {\n",
       "        text-align: right;\n",
       "    }\n",
       "</style>\n",
       "<table border=\"1\" class=\"dataframe\">\n",
       "  <thead>\n",
       "    <tr style=\"text-align: right;\">\n",
       "      <th></th>\n",
       "      <th>title</th>\n",
       "      <th>director</th>\n",
       "      <th>text</th>\n",
       "      <th>profitable</th>\n",
       "      <th>prediction</th>\n",
       "      <th>correct</th>\n",
       "    </tr>\n",
       "  </thead>\n",
       "  <tbody>\n",
       "    <tr>\n",
       "      <td>9993</td>\n",
       "      <td>psycho</td>\n",
       "      <td>alfred hitchcock</td>\n",
       "      <td>psycho alfred hitchcock horror mystery thriller</td>\n",
       "      <td>1</td>\n",
       "      <td>1</td>\n",
       "      <td>1</td>\n",
       "    </tr>\n",
       "    <tr>\n",
       "      <td>34846</td>\n",
       "      <td>monsters inc</td>\n",
       "      <td>pete docter, david silverman</td>\n",
       "      <td>monsters inc pete docter, david silverman anim...</td>\n",
       "      <td>1</td>\n",
       "      <td>1</td>\n",
       "      <td>1</td>\n",
       "    </tr>\n",
       "    <tr>\n",
       "      <td>22554</td>\n",
       "      <td>ishtar</td>\n",
       "      <td>elaine may</td>\n",
       "      <td>ishtar elaine may action adventure comedy</td>\n",
       "      <td>0</td>\n",
       "      <td>1</td>\n",
       "      <td>0</td>\n",
       "    </tr>\n",
       "    <tr>\n",
       "      <td>66478</td>\n",
       "      <td>ride along 2</td>\n",
       "      <td>tim story</td>\n",
       "      <td>ride along 2 tim story action comedy crime</td>\n",
       "      <td>1</td>\n",
       "      <td>1</td>\n",
       "      <td>1</td>\n",
       "    </tr>\n",
       "    <tr>\n",
       "      <td>23790</td>\n",
       "      <td>driving miss daisy</td>\n",
       "      <td>bruce beresford</td>\n",
       "      <td>driving miss daisy bruce beresford drama</td>\n",
       "      <td>1</td>\n",
       "      <td>0</td>\n",
       "      <td>0</td>\n",
       "    </tr>\n",
       "    <tr>\n",
       "      <td>27583</td>\n",
       "      <td>the return of the texas chainsaw massacre</td>\n",
       "      <td>kim henkel</td>\n",
       "      <td>the return of the texas chainsaw massacre kim ...</td>\n",
       "      <td>0</td>\n",
       "      <td>1</td>\n",
       "      <td>0</td>\n",
       "    </tr>\n",
       "    <tr>\n",
       "      <td>49520</td>\n",
       "      <td>super troopers 2</td>\n",
       "      <td>jay chandrasekhar</td>\n",
       "      <td>super troopers 2 jay chandrasekhar comedy crim...</td>\n",
       "      <td>1</td>\n",
       "      <td>1</td>\n",
       "      <td>1</td>\n",
       "    </tr>\n",
       "    <tr>\n",
       "      <td>22113</td>\n",
       "      <td>ruthless people</td>\n",
       "      <td>jim abrahams, david zucker</td>\n",
       "      <td>ruthless people jim abrahams, david zucker com...</td>\n",
       "      <td>1</td>\n",
       "      <td>1</td>\n",
       "      <td>1</td>\n",
       "    </tr>\n",
       "    <tr>\n",
       "      <td>13118</td>\n",
       "      <td>planet of the apes</td>\n",
       "      <td>franklin j. schaffner</td>\n",
       "      <td>planet of the apes franklin j. schaffner adven...</td>\n",
       "      <td>1</td>\n",
       "      <td>1</td>\n",
       "      <td>1</td>\n",
       "    </tr>\n",
       "    <tr>\n",
       "      <td>21355</td>\n",
       "      <td>mask</td>\n",
       "      <td>peter bogdanovich</td>\n",
       "      <td>mask peter bogdanovich biography drama</td>\n",
       "      <td>1</td>\n",
       "      <td>0</td>\n",
       "      <td>0</td>\n",
       "    </tr>\n",
       "  </tbody>\n",
       "</table>\n",
       "</div>"
      ],
      "text/plain": [
       "                                           title  \\\n",
       "9993                                      psycho   \n",
       "34846                               monsters inc   \n",
       "22554                                     ishtar   \n",
       "66478                               ride along 2   \n",
       "23790                         driving miss daisy   \n",
       "27583  the return of the texas chainsaw massacre   \n",
       "49520                           super troopers 2   \n",
       "22113                            ruthless people   \n",
       "13118                         planet of the apes   \n",
       "21355                                       mask   \n",
       "\n",
       "                           director  \\\n",
       "9993               alfred hitchcock   \n",
       "34846  pete docter, david silverman   \n",
       "22554                    elaine may   \n",
       "66478                     tim story   \n",
       "23790               bruce beresford   \n",
       "27583                    kim henkel   \n",
       "49520             jay chandrasekhar   \n",
       "22113    jim abrahams, david zucker   \n",
       "13118         franklin j. schaffner   \n",
       "21355             peter bogdanovich   \n",
       "\n",
       "                                                    text  profitable  \\\n",
       "9993     psycho alfred hitchcock horror mystery thriller           1   \n",
       "34846  monsters inc pete docter, david silverman anim...           1   \n",
       "22554          ishtar elaine may action adventure comedy           0   \n",
       "66478         ride along 2 tim story action comedy crime           1   \n",
       "23790           driving miss daisy bruce beresford drama           1   \n",
       "27583  the return of the texas chainsaw massacre kim ...           0   \n",
       "49520  super troopers 2 jay chandrasekhar comedy crim...           1   \n",
       "22113  ruthless people jim abrahams, david zucker com...           1   \n",
       "13118  planet of the apes franklin j. schaffner adven...           1   \n",
       "21355             mask peter bogdanovich biography drama           1   \n",
       "\n",
       "       prediction  correct  \n",
       "9993            1        1  \n",
       "34846           1        1  \n",
       "22554           1        0  \n",
       "66478           1        1  \n",
       "23790           0        0  \n",
       "27583           1        0  \n",
       "49520           1        1  \n",
       "22113           1        1  \n",
       "13118           1        1  \n",
       "21355           0        0  "
      ]
     },
     "execution_count": 542,
     "metadata": {},
     "output_type": "execute_result"
    }
   ],
   "source": [
    "tested_data.head(10)"
   ]
  },
  {
   "cell_type": "code",
   "execution_count": 545,
   "metadata": {},
   "outputs": [],
   "source": [
    "true_positives = np.where((tested_data['prediction'] == 1) & (tested_data['profitable'] == 1), 1, 0)"
   ]
  },
  {
   "cell_type": "code",
   "execution_count": 547,
   "metadata": {},
   "outputs": [],
   "source": [
    "true_negatives = np.where((tested_data['prediction'] == 0) & (tested_data['profitable'] == 0), 1, 0)"
   ]
  },
  {
   "cell_type": "code",
   "execution_count": 553,
   "metadata": {},
   "outputs": [],
   "source": [
    "false_positives = np.where((tested_data['prediction'] == 1) & (tested_data['profitable'] == 0), 1, 0)"
   ]
  },
  {
   "cell_type": "code",
   "execution_count": 554,
   "metadata": {},
   "outputs": [],
   "source": [
    "false_negatives = np.where((tested_data['prediction'] == 0) & (tested_data['profitable'] == 1), 1, 0)"
   ]
  },
  {
   "cell_type": "code",
   "execution_count": 675,
   "metadata": {
    "scrolled": false
   },
   "outputs": [],
   "source": [
    "acc = (true_positives.sum()+true_negatives.sum())/tested_data.count()"
   ]
  },
  {
   "cell_type": "code",
   "execution_count": 556,
   "metadata": {},
   "outputs": [],
   "source": [
    "precision = true_positives.sum()/(true_positives.sum()+false_positives.sum())"
   ]
  },
  {
   "cell_type": "code",
   "execution_count": 558,
   "metadata": {},
   "outputs": [],
   "source": [
    "recall = true_positives.sum()/(true_positives.sum()+false_negatives.sum())"
   ]
  },
  {
   "cell_type": "code",
   "execution_count": 674,
   "metadata": {},
   "outputs": [
    {
     "data": {
      "text/plain": [
       "title         0.605618\n",
       "director      0.605618\n",
       "text          0.605618\n",
       "profitable    0.605618\n",
       "prediction    0.605618\n",
       "correct       0.605618\n",
       "dtype: float64"
      ]
     },
     "execution_count": 674,
     "metadata": {},
     "output_type": "execute_result"
    }
   ],
   "source": [
    "acc"
   ]
  },
  {
   "cell_type": "code",
   "execution_count": 725,
   "metadata": {},
   "outputs": [
    {
     "data": {
      "text/plain": [
       "0.6196769456681351"
      ]
     },
     "execution_count": 725,
     "metadata": {},
     "output_type": "execute_result"
    }
   ],
   "source": [
    "precision"
   ]
  },
  {
   "cell_type": "code",
   "execution_count": 715,
   "metadata": {},
   "outputs": [
    {
     "data": {
      "text/plain": [
       "0.8210116731517509"
      ]
     },
     "execution_count": 715,
     "metadata": {},
     "output_type": "execute_result"
    }
   ],
   "source": [
    "recall"
   ]
  },
  {
   "cell_type": "code",
   "execution_count": 667,
   "metadata": {},
   "outputs": [],
   "source": [
    "from scipy.sparse import csr_matrix"
   ]
  },
  {
   "cell_type": "code",
   "execution_count": 668,
   "metadata": {},
   "outputs": [],
   "source": [
    "review = np.zeros((final_set['title'].count(), 3))"
   ]
  },
  {
   "cell_type": "raw",
   "metadata": {},
   "source": []
  },
  {
   "cell_type": "code",
   "execution_count": 669,
   "metadata": {},
   "outputs": [],
   "source": [
    "review[:,0] = np.where(final_set['metascore'] <= 40,1,0)\n",
    "review[:,1] = np.where(final_set['metascore'] <= 70 ,1,0) - review[:,0]\n",
    "review[:,2] = np.where(final_set['metascore'] <= 100 ,1,0) - review[:,0] - review[:,1]"
   ]
  },
  {
   "cell_type": "code",
   "execution_count": 672,
   "metadata": {},
   "outputs": [
    {
     "data": {
      "text/plain": [
       "array([[0., 0., 1.],\n",
       "       [0., 0., 1.],\n",
       "       [0., 0., 1.],\n",
       "       ...,\n",
       "       [0., 0., 1.],\n",
       "       [0., 0., 1.],\n",
       "       [1., 0., 0.]])"
      ]
     },
     "execution_count": 672,
     "metadata": {},
     "output_type": "execute_result"
    }
   ],
   "source": [
    "review"
   ]
  },
  {
   "cell_type": "code",
   "execution_count": 671,
   "metadata": {},
   "outputs": [
    {
     "name": "stdout",
     "output_type": "stream",
     "text": [
      "<class 'pandas.core.frame.DataFrame'>\n",
      "Int64Index: 3540 entries, 1005 to 81059\n",
      "Data columns (total 17 columns):\n",
      "reviews_from_critics                  3540 non-null float64\n",
      "genre                                 3540 non-null object\n",
      "description                           3540 non-null object\n",
      "metascore                             3540 non-null float64\n",
      "director                              3540 non-null object\n",
      "imdb_title_id                         3540 non-null object\n",
      "title                                 3540 non-null object\n",
      "year                                  3540 non-null int64\n",
      "duration                              3540 non-null int64\n",
      "country                               3540 non-null object\n",
      "budget                                3540 non-null object\n",
      "usa_gross_income                      3540 non-null int64\n",
      "worlwide_gross_income                 3540 non-null int64\n",
      "worlwide_gross_income_gross_income    3540 non-null object\n",
      "international_gross_income            3540 non-null int64\n",
      "returns                               3540 non-null int64\n",
      "profitable                            3540 non-null int64\n",
      "dtypes: float64(2), int64(7), object(8)\n",
      "memory usage: 497.8+ KB\n"
     ]
    }
   ],
   "source": [
    "final_set.info()"
   ]
  },
  {
   "cell_type": "code",
   "execution_count": 605,
   "metadata": {},
   "outputs": [
    {
     "data": {
      "text/html": [
       "<div>\n",
       "<style scoped>\n",
       "    .dataframe tbody tr th:only-of-type {\n",
       "        vertical-align: middle;\n",
       "    }\n",
       "\n",
       "    .dataframe tbody tr th {\n",
       "        vertical-align: top;\n",
       "    }\n",
       "\n",
       "    .dataframe thead th {\n",
       "        text-align: right;\n",
       "    }\n",
       "</style>\n",
       "<table border=\"1\" class=\"dataframe\">\n",
       "  <thead>\n",
       "    <tr style=\"text-align: right;\">\n",
       "      <th></th>\n",
       "      <th>imdb_title_id</th>\n",
       "      <th>title</th>\n",
       "      <th>original_title</th>\n",
       "      <th>year</th>\n",
       "      <th>date_published</th>\n",
       "      <th>genre</th>\n",
       "      <th>duration</th>\n",
       "      <th>country</th>\n",
       "      <th>language</th>\n",
       "      <th>director</th>\n",
       "      <th>...</th>\n",
       "      <th>actors</th>\n",
       "      <th>description</th>\n",
       "      <th>avg_vote</th>\n",
       "      <th>votes</th>\n",
       "      <th>budget</th>\n",
       "      <th>usa_gross_income</th>\n",
       "      <th>worlwide_gross_income</th>\n",
       "      <th>metascore</th>\n",
       "      <th>reviews_from_users</th>\n",
       "      <th>reviews_from_critics</th>\n",
       "    </tr>\n",
       "  </thead>\n",
       "  <tbody>\n",
       "    <tr>\n",
       "      <td>0</td>\n",
       "      <td>tt0000574</td>\n",
       "      <td>The Story of the Kelly Gang</td>\n",
       "      <td>The Story of the Kelly Gang</td>\n",
       "      <td>1906</td>\n",
       "      <td>1906-12-26</td>\n",
       "      <td>Biography, Crime, Drama</td>\n",
       "      <td>70</td>\n",
       "      <td>Australia</td>\n",
       "      <td>NaN</td>\n",
       "      <td>Charles Tait</td>\n",
       "      <td>...</td>\n",
       "      <td>Elizabeth Tait, John Tait, Norman Campbell, Be...</td>\n",
       "      <td>True story of notorious Australian outlaw Ned ...</td>\n",
       "      <td>6.1</td>\n",
       "      <td>537</td>\n",
       "      <td>$ 2250</td>\n",
       "      <td>NaN</td>\n",
       "      <td>NaN</td>\n",
       "      <td>NaN</td>\n",
       "      <td>7.0</td>\n",
       "      <td>7.0</td>\n",
       "    </tr>\n",
       "  </tbody>\n",
       "</table>\n",
       "<p>1 rows × 22 columns</p>\n",
       "</div>"
      ],
      "text/plain": [
       "  imdb_title_id                        title               original_title  \\\n",
       "0     tt0000574  The Story of the Kelly Gang  The Story of the Kelly Gang   \n",
       "\n",
       "   year date_published                    genre  duration    country language  \\\n",
       "0  1906     1906-12-26  Biography, Crime, Drama        70  Australia      NaN   \n",
       "\n",
       "       director  ...                                             actors  \\\n",
       "0  Charles Tait  ...  Elizabeth Tait, John Tait, Norman Campbell, Be...   \n",
       "\n",
       "                                         description avg_vote votes  budget  \\\n",
       "0  True story of notorious Australian outlaw Ned ...      6.1   537  $ 2250   \n",
       "\n",
       "   usa_gross_income worlwide_gross_income metascore reviews_from_users  \\\n",
       "0               NaN                   NaN       NaN                7.0   \n",
       "\n",
       "   reviews_from_critics  \n",
       "0                   7.0  \n",
       "\n",
       "[1 rows x 22 columns]"
      ]
     },
     "execution_count": 605,
     "metadata": {},
     "output_type": "execute_result"
    }
   ],
   "source": []
  },
  {
   "cell_type": "code",
   "execution_count": 710,
   "metadata": {},
   "outputs": [],
   "source": [
    "final_set = final_set.sort_values(by = 'title')"
   ]
  },
  {
   "cell_type": "code",
   "execution_count": 713,
   "metadata": {
    "scrolled": true
   },
   "outputs": [
    {
     "data": {
      "text/html": [
       "<div>\n",
       "<style scoped>\n",
       "    .dataframe tbody tr th:only-of-type {\n",
       "        vertical-align: middle;\n",
       "    }\n",
       "\n",
       "    .dataframe tbody tr th {\n",
       "        vertical-align: top;\n",
       "    }\n",
       "\n",
       "    .dataframe thead th {\n",
       "        text-align: right;\n",
       "    }\n",
       "</style>\n",
       "<table border=\"1\" class=\"dataframe\">\n",
       "  <thead>\n",
       "    <tr style=\"text-align: right;\">\n",
       "      <th></th>\n",
       "      <th>reviews_from_critics</th>\n",
       "      <th>genre</th>\n",
       "      <th>description</th>\n",
       "      <th>metascore</th>\n",
       "      <th>director</th>\n",
       "      <th>imdb_title_id</th>\n",
       "      <th>title</th>\n",
       "      <th>year</th>\n",
       "      <th>duration</th>\n",
       "      <th>country</th>\n",
       "      <th>budget</th>\n",
       "      <th>usa_gross_income</th>\n",
       "      <th>worlwide_gross_income</th>\n",
       "      <th>worlwide_gross_income_gross_income</th>\n",
       "      <th>international_gross_income</th>\n",
       "      <th>returns</th>\n",
       "      <th>profitable</th>\n",
       "    </tr>\n",
       "  </thead>\n",
       "  <tbody>\n",
       "    <tr>\n",
       "      <td>32239</td>\n",
       "      <td>87.0</td>\n",
       "      <td>drama romance western</td>\n",
       "      <td>two texas cowboys head mexico search work soon...</td>\n",
       "      <td>55.0</td>\n",
       "      <td>billy bob thornton</td>\n",
       "      <td>tt0149624</td>\n",
       "      <td>all the pretty horses</td>\n",
       "      <td>2000</td>\n",
       "      <td>116</td>\n",
       "      <td>USA</td>\n",
       "      <td>57000000</td>\n",
       "      <td>15540353</td>\n",
       "      <td>18133495</td>\n",
       "      <td>$ 18133495</td>\n",
       "      <td>2593142</td>\n",
       "      <td>-38866505</td>\n",
       "      <td>0</td>\n",
       "    </tr>\n",
       "    <tr>\n",
       "      <td>29321</td>\n",
       "      <td>105.0</td>\n",
       "      <td>drama</td>\n",
       "      <td>karl childers simple man hospitalized since ch...</td>\n",
       "      <td>84.0</td>\n",
       "      <td>billy bob thornton</td>\n",
       "      <td>tt0117666</td>\n",
       "      <td>sling blade</td>\n",
       "      <td>1996</td>\n",
       "      <td>135</td>\n",
       "      <td>USA</td>\n",
       "      <td>1000000</td>\n",
       "      <td>24444121</td>\n",
       "      <td>24444121</td>\n",
       "      <td>$ 24444121</td>\n",
       "      <td>0</td>\n",
       "      <td>23444121</td>\n",
       "      <td>1</td>\n",
       "    </tr>\n",
       "  </tbody>\n",
       "</table>\n",
       "</div>"
      ],
      "text/plain": [
       "       reviews_from_critics                  genre  \\\n",
       "32239                  87.0  drama romance western   \n",
       "29321                 105.0                  drama   \n",
       "\n",
       "                                             description  metascore  \\\n",
       "32239  two texas cowboys head mexico search work soon...       55.0   \n",
       "29321  karl childers simple man hospitalized since ch...       84.0   \n",
       "\n",
       "                 director imdb_title_id                  title  year  \\\n",
       "32239  billy bob thornton     tt0149624  all the pretty horses  2000   \n",
       "29321  billy bob thornton     tt0117666            sling blade  1996   \n",
       "\n",
       "       duration country     budget  usa_gross_income  worlwide_gross_income  \\\n",
       "32239       116     USA   57000000          15540353               18133495   \n",
       "29321       135     USA    1000000          24444121               24444121   \n",
       "\n",
       "      worlwide_gross_income_gross_income  international_gross_income  \\\n",
       "32239                         $ 18133495                     2593142   \n",
       "29321                         $ 24444121                           0   \n",
       "\n",
       "        returns  profitable  \n",
       "32239 -38866505           0  \n",
       "29321  23444121           1  "
      ]
     },
     "execution_count": 713,
     "metadata": {},
     "output_type": "execute_result"
    }
   ],
   "source": [
    "final_set.query('director == \"billy bob thornton\"')"
   ]
  },
  {
   "cell_type": "code",
   "execution_count": null,
   "metadata": {},
   "outputs": [],
   "source": []
  }
 ],
 "metadata": {
  "kernelspec": {
   "display_name": "Python 3",
   "language": "python",
   "name": "python3"
  },
  "language_info": {
   "codemirror_mode": {
    "name": "ipython",
    "version": 3
   },
   "file_extension": ".py",
   "mimetype": "text/x-python",
   "name": "python",
   "nbconvert_exporter": "python",
   "pygments_lexer": "ipython3",
   "version": "3.7.4"
  }
 },
 "nbformat": 4,
 "nbformat_minor": 2
}
